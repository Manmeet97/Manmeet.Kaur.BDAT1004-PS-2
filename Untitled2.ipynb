{
 "cells": [
  {
   "cell_type": "code",
   "execution_count": 21,
   "id": "554d52a0-df20-41b0-a776-6f75f003b704",
   "metadata": {},
   "outputs": [
    {
     "name": "stdout",
     "output_type": "stream",
     "text": [
      "6\n"
     ]
    }
   ],
   "source": [
    "# Define a global variable 'a' and assign it the initial value of 0\n",
    "a = 0\n",
    "\n",
    "# Define a function 'b'\n",
    "def b():\n",
    "    # Declare 'a' as a global variable so that changes made to it inside the function affect the global variable\n",
    "    global a\n",
    "    # Call function 'c' with the current value of 'a' and assign the result back to 'a'\n",
    "    a = c(a)\n",
    "\n",
    "# Define a function 'c'\n",
    "def c(a):\n",
    "    # Return the value of 'a' incremented by 2\n",
    "    return a + 2\n",
    "\n",
    "# Call function 'b' three times\n",
    "b()  # a = c(0) = 0 + 2 = 2\n",
    "b()  # a = c(2) = 2 + 2 = 4\n",
    "b()  # a = c(4) = 4 + 2 = 6\n",
    "\n",
    "# After calling 'b' three times, print the current value of 'a'\n",
    "print(a)\n"
   ]
  },
  {
   "cell_type": "code",
   "execution_count": 19,
   "id": "bbc44e41-e6b0-48ad-a08f-66bc7ab5fe76",
   "metadata": {},
   "outputs": [
    {
     "ename": "SyntaxError",
     "evalue": "invalid character '“' (U+201C) (1554889036.py, line 18)",
     "output_type": "error",
     "traceback": [
      "\u001b[1;36m  Cell \u001b[1;32mIn[19], line 18\u001b[1;36m\u001b[0m\n\u001b[1;33m    When calling fileLength('midterm.py'), it prints “File midterm.py not found.” and returns None.\u001b[0m\n\u001b[1;37m                                                     ^\u001b[0m\n\u001b[1;31mSyntaxError\u001b[0m\u001b[1;31m:\u001b[0m invalid character '“' (U+201C)\n"
     ]
    }
   ],
   "source": [
    "def fileLength(filename):\n",
    "    try:\n",
    "        # Open the file\n",
    "        with open(filename, 'r') as infile:\n",
    "            # Read the content and return the length\n",
    "            content = infile.read()\n",
    "            return len(content)\n",
    "    except FileNotFoundError:\n",
    "        # Print a friendly message if the file is not found\n",
    "        print(f\"File {filename} not found.\")\n",
    "        return None\n",
    "\n",
    "# Test the function\n",
    "print(fileLength('midterm.py'))\n",
    "print(fileLength('idterm.py'))\n",
    "Results:\n",
    "\n",
    "When calling fileLength('midterm.py'), it prints “File midterm.py not found.” and returns None.\n",
    "When calling fileLength('idterm.py'), it also prints “File idterm.py not found.” and returns None.\n"
   ]
  },
  {
   "cell_type": "code",
   "execution_count": 18,
   "id": "d3c47880-be18-4b8b-9a4e-75705b22d1f8",
   "metadata": {},
   "outputs": [
    {
     "name": "stdout",
     "output_type": "stream",
     "text": [
      "['doll', 'firetruck', 'kitten']\n",
      "I am a Kangaroo located at coordinates (0,0)\n",
      "['doll', 'firetruck', 'kitten']\n",
      "I am a Kangaroo located at coordinates (3,0)\n"
     ]
    }
   ],
   "source": [
    "class Marsupial:\n",
    "  def __init__(self):\n",
    "      self.pouch = []\n",
    "\n",
    "  def put_in_pouch(self, item):\n",
    "      self.pouch.append(item)\n",
    "\n",
    "  def pouch_contents(self):\n",
    "      return self.pouch\n",
    "\n",
    "\n",
    "class Kangaroo(Marsupial):\n",
    "  def __init__(self, x, y):\n",
    "      super().__init__()\n",
    "      self.x = x\n",
    "      self.y = y\n",
    "\n",
    "  def jump(self, dx, dy):\n",
    "      self.x += dx\n",
    "      self.y += dy\n",
    "\n",
    "  def __str__(self):\n",
    "      return f\"I am a Kangaroo located at coordinates ({self.x},{self.y})\"\n",
    "\n",
    "\n",
    "m = Marsupial()\n",
    "m.put_in_pouch('doll')\n",
    "m.put_in_pouch('firetruck')\n",
    "m.put_in_pouch('kitten')\n",
    "print(m.pouch_contents())\n",
    "\n",
    "k = Kangaroo(0, 0)\n",
    "print(k)\n",
    "k.put_in_pouch('doll')\n",
    "k.put_in_pouch('firetruck')\n",
    "k.put_in_pouch('kitten')\n",
    "print(k.pouch_contents())\n",
    "k.jump(1, 0)\n",
    "k.jump(1, 0)\n",
    "k.jump(1, 0)\n",
    "print(k)\n"
   ]
  },
  {
   "cell_type": "code",
   "execution_count": 22,
   "id": "5096a91d-8383-490c-b204-a43d78629b5b",
   "metadata": {},
   "outputs": [
    {
     "name": "stdout",
     "output_type": "stream",
     "text": [
      "1\n",
      "10\n",
      "5\n",
      "16\n",
      "8\n",
      "4\n",
      "2\n",
      "1\n"
     ]
    }
   ],
   "source": [
    "def collatz(x):\n",
    "    print(x)\n",
    "    if x == 1:\n",
    "        return\n",
    "    elif x % 2 == 0:\n",
    "        collatz(x // 2)\n",
    "    else:\n",
    "        collatz(3 * x + 1)\n",
    "\n",
    "# Test the function\n",
    "collatz(1)\n",
    "collatz(10)\n"
   ]
  },
  {
   "cell_type": "code",
   "execution_count": 23,
   "id": "c965fd83-e822-4a33-b9fb-32e8981b9245",
   "metadata": {},
   "outputs": [
    {
     "name": "stdout",
     "output_type": "stream",
     "text": [
      "0\n",
      "1\n",
      "11\n",
      "1001"
     ]
    }
   ],
   "source": [
    "def binary(n):\n",
    "    if n > 1:\n",
    "        binary(n // 2)\n",
    "    print(n % 2, end='')\n",
    "\n",
    "# Test the function\n",
    "binary(0)\n",
    "print()  # Newline for clarity\n",
    "binary(1)\n",
    "print()  # Newline for clarity\n",
    "binary(3)\n",
    "print()  # Newline for clarity\n",
    "binary(9)\n"
   ]
  },
  {
   "cell_type": "code",
   "execution_count": 24,
   "id": "13f85290-3258-4d5c-9f22-4b77c93ea104",
   "metadata": {},
   "outputs": [
    {
     "ename": "FileNotFoundError",
     "evalue": "[Errno 2] No such file or directory: 'w3c.html'",
     "output_type": "error",
     "traceback": [
      "\u001b[1;31m---------------------------------------------------------------------------\u001b[0m",
      "\u001b[1;31mFileNotFoundError\u001b[0m                         Traceback (most recent call last)",
      "Cell \u001b[1;32mIn[24], line 21\u001b[0m\n\u001b[0;32m     18\u001b[0m             \u001b[38;5;28mprint\u001b[39m(\u001b[38;5;124m'\u001b[39m\u001b[38;5;124m  \u001b[39m\u001b[38;5;124m'\u001b[39m \u001b[38;5;241m*\u001b[39m (level \u001b[38;5;241m-\u001b[39m \u001b[38;5;241m1\u001b[39m) \u001b[38;5;241m+\u001b[39m heading)\n\u001b[0;32m     20\u001b[0m \u001b[38;5;66;03m# Test the implementation\u001b[39;00m\n\u001b[1;32m---> 21\u001b[0m infile \u001b[38;5;241m=\u001b[39m \u001b[38;5;28;43mopen\u001b[39;49m\u001b[43m(\u001b[49m\u001b[38;5;124;43m'\u001b[39;49m\u001b[38;5;124;43mw3c.html\u001b[39;49m\u001b[38;5;124;43m'\u001b[39;49m\u001b[43m)\u001b[49m\n\u001b[0;32m     22\u001b[0m content \u001b[38;5;241m=\u001b[39m infile\u001b[38;5;241m.\u001b[39mread()\n\u001b[0;32m     23\u001b[0m infile\u001b[38;5;241m.\u001b[39mclose()\n",
      "File \u001b[1;32m~\\AppData\\Local\\Programs\\Python\\Python312\\Lib\\site-packages\\IPython\\core\\interactiveshell.py:324\u001b[0m, in \u001b[0;36m_modified_open\u001b[1;34m(file, *args, **kwargs)\u001b[0m\n\u001b[0;32m    317\u001b[0m \u001b[38;5;28;01mif\u001b[39;00m file \u001b[38;5;129;01min\u001b[39;00m {\u001b[38;5;241m0\u001b[39m, \u001b[38;5;241m1\u001b[39m, \u001b[38;5;241m2\u001b[39m}:\n\u001b[0;32m    318\u001b[0m     \u001b[38;5;28;01mraise\u001b[39;00m \u001b[38;5;167;01mValueError\u001b[39;00m(\n\u001b[0;32m    319\u001b[0m         \u001b[38;5;124mf\u001b[39m\u001b[38;5;124m\"\u001b[39m\u001b[38;5;124mIPython won\u001b[39m\u001b[38;5;124m'\u001b[39m\u001b[38;5;124mt let you open fd=\u001b[39m\u001b[38;5;132;01m{\u001b[39;00mfile\u001b[38;5;132;01m}\u001b[39;00m\u001b[38;5;124m by default \u001b[39m\u001b[38;5;124m\"\u001b[39m\n\u001b[0;32m    320\u001b[0m         \u001b[38;5;124m\"\u001b[39m\u001b[38;5;124mas it is likely to crash IPython. If you know what you are doing, \u001b[39m\u001b[38;5;124m\"\u001b[39m\n\u001b[0;32m    321\u001b[0m         \u001b[38;5;124m\"\u001b[39m\u001b[38;5;124myou can use builtins\u001b[39m\u001b[38;5;124m'\u001b[39m\u001b[38;5;124m open.\u001b[39m\u001b[38;5;124m\"\u001b[39m\n\u001b[0;32m    322\u001b[0m     )\n\u001b[1;32m--> 324\u001b[0m \u001b[38;5;28;01mreturn\u001b[39;00m \u001b[43mio_open\u001b[49m\u001b[43m(\u001b[49m\u001b[43mfile\u001b[49m\u001b[43m,\u001b[49m\u001b[43m \u001b[49m\u001b[38;5;241;43m*\u001b[39;49m\u001b[43margs\u001b[49m\u001b[43m,\u001b[49m\u001b[43m \u001b[49m\u001b[38;5;241;43m*\u001b[39;49m\u001b[38;5;241;43m*\u001b[39;49m\u001b[43mkwargs\u001b[49m\u001b[43m)\u001b[49m\n",
      "\u001b[1;31mFileNotFoundError\u001b[0m: [Errno 2] No such file or directory: 'w3c.html'"
     ]
    }
   ],
   "source": [
    "from html.parser import HTMLParser\n",
    "\n",
    "class HeadingParser(HTMLParser):\n",
    "    def __init__(self):\n",
    "        super().__init__()\n",
    "        self.headings = []\n",
    "\n",
    "    def handle_starttag(self, tag, attrs):\n",
    "        if tag.startswith('h') and tag[1:].isdigit():\n",
    "            self.headings.append((int(tag[1:]), ''))\n",
    "\n",
    "    def handle_data(self, data):\n",
    "        if self.headings:\n",
    "            self.headings[-1] = (self.headings[-1][0], self.headings[-1][1] + data.strip())\n",
    "\n",
    "    def print_headings(self):\n",
    "        for level, heading in self.headings:\n",
    "            print('  ' * (level - 1) + heading)\n",
    "\n",
    "# Test the implementation\n",
    "infile = open('w3c.html')\n",
    "content = infile.read()\n",
    "infile.close()\n",
    "\n",
    "hp = HeadingParser()\n",
    "hp.feed(content)\n",
    "hp.print_headings()\n"
   ]
  },
  {
   "cell_type": "code",
   "execution_count": 26,
   "id": "5f4757d1-2b76-422e-93fa-450721bbdc26",
   "metadata": {},
   "outputs": [
    {
     "name": "stdout",
     "output_type": "stream",
     "text": [
      "http://reed.cs.depaul.edu/lperkovic/csc242/test1.html\n"
     ]
    }
   ],
   "source": [
    "import requests\n",
    "from bs4 import BeautifulSoup\n",
    "\n",
    "def webdir(url, depth, indent):\n",
    "    # Base case: if depth is 0, return\n",
    "    if depth == 0:\n",
    "        return\n",
    "\n",
    "    try:\n",
    "        # Send a GET request to the URL\n",
    "        response = requests.get(url)\n",
    "        soup = BeautifulSoup(response.content, 'html.parser')\n",
    "\n",
    "        # Print the current URL with indentation\n",
    "        print(\" \" * indent + url)\n",
    "\n",
    "        # Find all anchor tags (links) in the page\n",
    "        links = soup.find_all('a', href=True)\n",
    "\n",
    "        # Recursively visit each link\n",
    "        for link in links:\n",
    "            next_url = link['href']\n",
    "            if next_url.startswith('http'):\n",
    "                webdir(next_url, depth - 1, indent + 1)\n",
    "\n",
    "    except Exception as e:\n",
    "        print(f\"Error fetching URL {url}: {e}\")\n",
    "\n",
    "# Test the function\n",
    "webdir('http://reed.cs.depaul.edu/lperkovic/csc242/test1.html', 2, 0)\n"
   ]
  },
  {
   "cell_type": "code",
   "execution_count": 28,
   "id": "e762fd6d-cc9a-4f67-b905-c8be61cfcb45",
   "metadata": {},
   "outputs": [
    {
     "name": "stdout",
     "output_type": "stream",
     "text": [
      "a) Uppercase words: ['THE', 'QUICK', 'BROWN', 'FOX', 'JUMPS', 'OVER', 'THE', 'LAZY', 'DOG']\n",
      "b) Lowercase words: ['the', 'quick', 'brown', 'fox', 'jumps', 'over', 'the', 'lazy', 'dog']\n",
      "c) Word lengths: [3, 5, 5, 3, 5, 4, 3, 4, 3]\n",
      "d) Word information: [['THE', 'the', 3], ['QUICK', 'quick', 5], ['BROWN', 'brown', 5], ['FOX', 'fox', 3], ['JUMPS', 'jumps', 5], ['OVER', 'over', 4], ['THE', 'the', 3], ['LAZY', 'lazy', 4], ['DOG', 'dog', 3]]\n",
      "e) Words with four or more characters: ['quick', 'brown', 'jumps', 'over', 'lazy']\n"
     ]
    }
   ],
   "source": [
    "# Given list of words\n",
    "words = ['The', 'quick', 'brown', 'fox', 'jumps', 'over', 'the', 'lazy', 'dog']\n",
    "\n",
    "# a) Converting all words to uppercase\n",
    "uppercase_words = [word.upper() for word in words]\n",
    "\n",
    "# b) Keeping all words as lowercase\n",
    "lowercase_words = [word.lower() for word in words]\n",
    "\n",
    "# c) Get the lengths of all words\n",
    "word_lengths = [len(word) for word in words]\n",
    "\n",
    "# d) Create a list of lists containing the word in uppercase, lowercase, and the length of the word\n",
    "word_info = [[word.upper(), word.lower(), len(word)] for word in words]\n",
    "\n",
    "# e) Filter words containing 4 or more characters\n",
    "words_with_four_or_more_characters = [word for word in words if len(word) >= 4]\n",
    "\n",
    "# Print the results\n",
    "print(\"a) Uppercase words:\", uppercase_words)\n",
    "print(\"b) Lowercase words:\", lowercase_words)\n",
    "print(\"c) Word lengths:\", word_lengths)\n",
    "print(\"d) Word information:\", word_info)\n",
    "print(\"e) Words with four or more characters:\", words_with_four_or_more_characters)\n",
    "\n",
    "\n"
   ]
  },
  {
   "cell_type": "code",
   "execution_count": null,
   "id": "ae115069-ca01-4644-98ea-730f3b95a311",
   "metadata": {},
   "outputs": [],
   "source": []
  }
 ],
 "metadata": {
  "kernelspec": {
   "display_name": "Python 3 (ipykernel)",
   "language": "python",
   "name": "python3"
  },
  "language_info": {
   "codemirror_mode": {
    "name": "ipython",
    "version": 3
   },
   "file_extension": ".py",
   "mimetype": "text/x-python",
   "name": "python",
   "nbconvert_exporter": "python",
   "pygments_lexer": "ipython3",
   "version": "3.12.2"
  }
 },
 "nbformat": 4,
 "nbformat_minor": 5
}
